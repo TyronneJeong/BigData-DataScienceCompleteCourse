{
 "cells": [
  {
   "cell_type": "markdown",
   "id": "fca45e70",
   "metadata": {},
   "source": [
    "# 로지스틱회귀분석"
   ]
  },
  {
   "cell_type": "markdown",
   "id": "a5402e35",
   "metadata": {},
   "source": [
    "\n",
    "종속변수 $y$의 값이 특정한 구간 **(0~$N$) 사이의 정수값만을 가지는 이항분포(Binomial Distribution) 따른 다**고 가정할때, 사용 가능한 분류분석 법이다.\n",
    "\n",
    "$$\n",
    "P(y|x) = Bin(y; \\mu(x), N)\n",
    "$$\n",
    "<br/>\n",
    "<br/>\n",
    "이때, 카테고리값의 수가 1 일때 즉$(N=1)$ 은 베르누이 분포를 따르게 된다.\n",
    "\n",
    "$$\n",
    "P(y|x) = Bern(y; \\mu(x))\n",
    "$$\n",
    "\n",
    "- $\\mu(x)$ :  x값에 따라 y 가 1이 나올 확률"
   ]
  },
  {
   "cell_type": "code",
   "execution_count": null,
   "id": "cdba5c9e",
   "metadata": {},
   "outputs": [],
   "source": [
    "import sklearn.linear_model import LogisticRegression"
   ]
  },
  {
   "cell_type": "markdown",
   "id": "1867b3b0",
   "metadata": {},
   "source": [
    "## 시그모이드 함수 (sigmoid function)\n",
    "\n",
    "- S like : S자와 닮았다라는 의미의 표현."
   ]
  },
  {
   "cell_type": "code",
   "execution_count": null,
   "id": "5916409e",
   "metadata": {},
   "outputs": [],
   "source": []
  }
 ],
 "metadata": {
  "kernelspec": {
   "display_name": "Python 3",
   "language": "python",
   "name": "python3"
  },
  "language_info": {
   "codemirror_mode": {
    "name": "ipython",
    "version": 3
   },
   "file_extension": ".py",
   "mimetype": "text/x-python",
   "name": "python",
   "nbconvert_exporter": "python",
   "pygments_lexer": "ipython3",
   "version": "3.8.8"
  }
 },
 "nbformat": 4,
 "nbformat_minor": 5
}
