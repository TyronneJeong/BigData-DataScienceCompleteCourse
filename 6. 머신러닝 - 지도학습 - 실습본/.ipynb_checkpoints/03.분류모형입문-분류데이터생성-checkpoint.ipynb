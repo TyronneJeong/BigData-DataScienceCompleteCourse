{
 "cells": [
  {
   "cell_type": "markdown",
   "id": "bbffac64",
   "metadata": {},
   "source": [
    "# 분류데이터 생성"
   ]
  },
  {
   "cell_type": "markdown",
   "id": "da219f68",
   "metadata": {},
   "source": [
    "## make_classification\n",
    "- 함수를 통하여 가상의 분류 데이터를 생성 할 수 있다.\n",
    "- **주요함수인자**\n",
    "  - n_sample : 표본 데이터의 수 (디폴트 : 100)"
   ]
  },
  {
   "cell_type": "code",
   "execution_count": null,
   "id": "0be34085",
   "metadata": {},
   "outputs": [],
   "source": []
  }
 ],
 "metadata": {
  "kernelspec": {
   "display_name": "Python 3",
   "language": "python",
   "name": "python3"
  },
  "language_info": {
   "codemirror_mode": {
    "name": "ipython",
    "version": 3
   },
   "file_extension": ".py",
   "mimetype": "text/x-python",
   "name": "python",
   "nbconvert_exporter": "python",
   "pygments_lexer": "ipython3",
   "version": "3.8.8"
  }
 },
 "nbformat": 4,
 "nbformat_minor": 5
}
