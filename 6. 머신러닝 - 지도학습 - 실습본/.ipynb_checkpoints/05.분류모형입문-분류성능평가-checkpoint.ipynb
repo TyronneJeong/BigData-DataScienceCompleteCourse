{
 "cells": [
  {
   "cell_type": "markdown",
   "id": "4c89a2f1",
   "metadata": {},
   "source": [
    "# 분류성능평가"
   ]
  },
  {
   "cell_type": "markdown",
   "id": "fa45f26e",
   "metadata": {},
   "source": [
    "분류 문제에서는 회귀분석(R-square)와 달리 다양한 성능 평가 기준이 필요하다.\n",
    "\n",
    "**[sklearn.metrics(측정항목) 에서 제공하는 분류 성능 평가 메소드]**\n",
    " - confucion_matrix(y_true, y_pred)\n",
    " - accuracy_score(y_true, y_pred)\n",
    " - precision_score(y_true, y_pred)\n",
    " - recall_score(y_true, y_pred)\n",
    " - fbeta_score(y_true, y_pred, beta)\n",
    " - f1_score(y_true, y_pred)\n",
    " - classification_report(y_true, y_pred)\n",
    " - roc_curve\n",
    " - auc"
   ]
  },
  {
   "cell_type": "markdown",
   "id": "0b8de94d",
   "metadata": {},
   "source": [
    "### Confusion Matrix (혼동행렬)\n",
    "\n",
    "![혼동행렬](matrix.png)\n",
    "\n",
    "[불량품 검사 시스템 - 불량을 찾아내는 것이 True 이다.]\n",
    "- True Positive : 불량제품을 불럄품으로 정확히 예측\n",
    "- True Negative : 정상제품을 정상제품으로 정확히 예측\n",
    "- False Positive : 불럄제품을 정상제품으로 잘못 예측\n",
    "- False Negative : 정상제품을 불럄제품으로 잘못 예측"
   ]
  },
  {
   "cell_type": "markdown",
   "id": "7688546c",
   "metadata": {},
   "source": [
    "**정확도(accuracy)**\n",
    "- 전체 모수에서 정상과불량을 정확히 탐지해낸 비율\n",
    "$$ accuracy = {TP + TN \\over TP + TN + FP + FN}$$"
   ]
  },
  {
   "cell_type": "code",
   "execution_count": null,
   "id": "b1b289df",
   "metadata": {},
   "outputs": [],
   "source": [
    "confucion_matrix(y_true, y_pred)"
   ]
  },
  {
   "cell_type": "markdown",
   "id": "aa6e1ce2",
   "metadata": {},
   "source": [
    "**정밀도(precision)** (검출율)\n",
    "- 불럄제품으로 탐지해낸 제품들 중에 실제 불량제품인 비율\n",
    "$$precision = {TP \\over TP+FP}$$"
   ]
  },
  {
   "cell_type": "code",
   "execution_count": null,
   "id": "6cdb5898",
   "metadata": {},
   "outputs": [],
   "source": [
    "accuracy_score(y_true, y_pred)"
   ]
  },
  {
   "cell_type": "markdown",
   "id": "22280a32",
   "metadata": {},
   "source": [
    "**재현율(recall)** (정분류율)\n",
    "- 실제 불량제품을 제대로 탐지해낸 비율\n",
    "$$recall = {TP \\over TP+FN}$$"
   ]
  },
  {
   "cell_type": "code",
   "execution_count": null,
   "id": "3ef64733",
   "metadata": {},
   "outputs": [],
   "source": [
    "recall_score(y_true, y_pred)"
   ]
  },
  {
   "cell_type": "markdown",
   "id": "3f72cea5",
   "metadata": {},
   "source": [
    "**위양성율 (fall-out)**\n",
    "- 정상으로 분류한 제품들 중 불량제품이 포함되어 있는 비율\n",
    "$$fallout = {FP \\over FP+TN}$$"
   ]
  },
  {
   "cell_type": "code",
   "execution_count": null,
   "id": "40e24b88",
   "metadata": {},
   "outputs": [],
   "source": []
  },
  {
   "cell_type": "markdown",
   "id": "7d1c5fa0",
   "metadata": {},
   "source": [
    "**F-Score**\n",
    "- 정밀도, 재현율의 조화평균(weight harmonic average)\n",
    "- 재현율은 불량품으로 식별해낸 비율을 의미한다.\n",
    "- 정밀도는 불럄품으로 분류해낸 값들 중 실제 불량인 제품의 비율을 의미한다.\n",
    "- 때문에, 정밀도(precision)와 재현율(recall) 모두 높은 모델이 좋은 분류 모델이다.\n",
    "$$F1 Score = 2 \\times {precision \\times recall \\over precision + recall}$$"
   ]
  },
  {
   "cell_type": "code",
   "execution_count": null,
   "id": "db1ea28a",
   "metadata": {},
   "outputs": [],
   "source": [
    "f1_score(y_true, y_pred)"
   ]
  },
  {
   "cell_type": "markdown",
   "id": "de8e98ea",
   "metadata": {},
   "source": [
    "### 분류보고서 (classification report)\n",
    "- 정확도, 정밀도, 재현율등 분류 평가지표 모두를 종합한 보고서\n"
   ]
  },
  {
   "cell_type": "code",
   "execution_count": 5,
   "id": "d76c7d3e",
   "metadata": {},
   "outputs": [
    {
     "name": "stdout",
     "output_type": "stream",
     "text": [
      "              precision    recall  f1-score   support\n",
      "\n",
      "     Class 0       1.00      1.00      1.00         2\n",
      "     Class 1       0.50      0.50      0.50         2\n",
      "     Class 2       0.67      0.67      0.67         3\n",
      "\n",
      "    accuracy                           0.71         7\n",
      "   macro avg       0.72      0.72      0.72         7\n",
      "weighted avg       0.71      0.71      0.71         7\n",
      "\n"
     ]
    }
   ],
   "source": [
    "# 보고서 예\n",
    "from sklearn.metrics import classification_report\n",
    "y_true = [0, 0, 1, 1, 2, 2, 2]\n",
    "y_pred = [0, 0, 1, 2, 2, 2, 1]\n",
    "target_names = ['Class 0','Class 1','Class 2']\n",
    "print(classification_report(y_true, y_pred, target_names=target_names))"
   ]
  },
  {
   "cell_type": "markdown",
   "id": "3fac5fd1",
   "metadata": {},
   "source": [
    "#### [해설]\n",
    "- precision : 각 카테고리별로 예측값에 해당하는 실제 값을 제대로 검출 한 비율\n",
    "- recall : 분류된 항목 들 중 실제 값과 예측 값이 일치한 비율"
   ]
  },
  {
   "cell_type": "markdown",
   "id": "bdab4c1f",
   "metadata": {},
   "source": [
    "### ROC 커브\n",
    "- 재현율(recall)와 위양성율(fallout)은 양의 상관관계이다.\n",
    "- 불량제품을 식별 한 모수가 늘면 늘수록 이중 오분류율 역시 높아지는 관계라는 의미이다.\n",
    "- 이때 모수를 늘렸을때의 오분류율, 모수를 줄였을때의 오분류등 **클래스 판별 기준값의 변화에 따라변화하는 위양성율과 재현율의 변화(threshold)를 시각화 한 것** 이라고 한다."
   ]
  },
  {
   "cell_type": "code",
   "execution_count": 29,
   "id": "9eaa3742",
   "metadata": {},
   "outputs": [
    {
     "data": {
      "text/html": [
       "<div>\n",
       "<style scoped>\n",
       "    .dataframe tbody tr th:only-of-type {\n",
       "        vertical-align: middle;\n",
       "    }\n",
       "\n",
       "    .dataframe tbody tr th {\n",
       "        vertical-align: top;\n",
       "    }\n",
       "\n",
       "    .dataframe thead th {\n",
       "        text-align: right;\n",
       "    }\n",
       "</style>\n",
       "<table border=\"1\" class=\"dataframe\">\n",
       "  <thead>\n",
       "    <tr style=\"text-align: right;\">\n",
       "      <th></th>\n",
       "      <th>f</th>\n",
       "      <th>y_hat</th>\n",
       "      <th>y</th>\n",
       "    </tr>\n",
       "  </thead>\n",
       "  <tbody>\n",
       "    <tr>\n",
       "      <th>0</th>\n",
       "      <td>2.363163</td>\n",
       "      <td>1.0</td>\n",
       "      <td>1.0</td>\n",
       "    </tr>\n",
       "    <tr>\n",
       "      <th>1</th>\n",
       "      <td>2.065047</td>\n",
       "      <td>1.0</td>\n",
       "      <td>1.0</td>\n",
       "    </tr>\n",
       "    <tr>\n",
       "      <th>2</th>\n",
       "      <td>1.633657</td>\n",
       "      <td>1.0</td>\n",
       "      <td>1.0</td>\n",
       "    </tr>\n",
       "    <tr>\n",
       "      <th>3</th>\n",
       "      <td>1.626171</td>\n",
       "      <td>1.0</td>\n",
       "      <td>1.0</td>\n",
       "    </tr>\n",
       "    <tr>\n",
       "      <th>4</th>\n",
       "      <td>1.624967</td>\n",
       "      <td>1.0</td>\n",
       "      <td>1.0</td>\n",
       "    </tr>\n",
       "    <tr>\n",
       "      <th>5</th>\n",
       "      <td>1.219678</td>\n",
       "      <td>1.0</td>\n",
       "      <td>1.0</td>\n",
       "    </tr>\n",
       "    <tr>\n",
       "      <th>6</th>\n",
       "      <td>0.378296</td>\n",
       "      <td>1.0</td>\n",
       "      <td>0.0</td>\n",
       "    </tr>\n",
       "    <tr>\n",
       "      <th>7</th>\n",
       "      <td>0.094285</td>\n",
       "      <td>1.0</td>\n",
       "      <td>1.0</td>\n",
       "    </tr>\n",
       "    <tr>\n",
       "      <th>8</th>\n",
       "      <td>-0.438666</td>\n",
       "      <td>0.0</td>\n",
       "      <td>0.0</td>\n",
       "    </tr>\n",
       "    <tr>\n",
       "      <th>9</th>\n",
       "      <td>-0.765888</td>\n",
       "      <td>0.0</td>\n",
       "      <td>0.0</td>\n",
       "    </tr>\n",
       "    <tr>\n",
       "      <th>10</th>\n",
       "      <td>-0.926932</td>\n",
       "      <td>0.0</td>\n",
       "      <td>1.0</td>\n",
       "    </tr>\n",
       "    <tr>\n",
       "      <th>11</th>\n",
       "      <td>-1.046770</td>\n",
       "      <td>0.0</td>\n",
       "      <td>0.0</td>\n",
       "    </tr>\n",
       "    <tr>\n",
       "      <th>12</th>\n",
       "      <td>-1.214700</td>\n",
       "      <td>0.0</td>\n",
       "      <td>0.0</td>\n",
       "    </tr>\n",
       "    <tr>\n",
       "      <th>13</th>\n",
       "      <td>-1.429382</td>\n",
       "      <td>0.0</td>\n",
       "      <td>0.0</td>\n",
       "    </tr>\n",
       "    <tr>\n",
       "      <th>14</th>\n",
       "      <td>-2.081586</td>\n",
       "      <td>0.0</td>\n",
       "      <td>0.0</td>\n",
       "    </tr>\n",
       "    <tr>\n",
       "      <th>15</th>\n",
       "      <td>-4.118969</td>\n",
       "      <td>0.0</td>\n",
       "      <td>0.0</td>\n",
       "    </tr>\n",
       "  </tbody>\n",
       "</table>\n",
       "</div>"
      ],
      "text/plain": [
       "           f  y_hat    y\n",
       "0   2.363163    1.0  1.0\n",
       "1   2.065047    1.0  1.0\n",
       "2   1.633657    1.0  1.0\n",
       "3   1.626171    1.0  1.0\n",
       "4   1.624967    1.0  1.0\n",
       "5   1.219678    1.0  1.0\n",
       "6   0.378296    1.0  0.0\n",
       "7   0.094285    1.0  1.0\n",
       "8  -0.438666    0.0  0.0\n",
       "9  -0.765888    0.0  0.0\n",
       "10 -0.926932    0.0  1.0\n",
       "11 -1.046770    0.0  0.0\n",
       "12 -1.214700    0.0  0.0\n",
       "13 -1.429382    0.0  0.0\n",
       "14 -2.081586    0.0  0.0\n",
       "15 -4.118969    0.0  0.0"
      ]
     },
     "execution_count": 29,
     "metadata": {},
     "output_type": "execute_result"
    }
   ],
   "source": [
    "# 분류 데이터 생성 및 모델 적용\n",
    "import pandas as pd\n",
    "import numpy as np\n",
    "from sklearn.datasets import make_classification\n",
    "from sklearn.linear_model import LogisticRegression\n",
    "\n",
    "X, y = make_classification(n_samples=16, n_features=2, \n",
    "                           n_informative=2, n_redundant=0, random_state=0)\n",
    "\n",
    "model = LogisticRegression().fit(X, y)\n",
    "y_hat = model.predict(X)\n",
    "f_value = model.decision_function(X) # 판별함수 (확률적 판별모델)\n",
    "\n",
    "# np.vstack([f_value, y_hat, y]).T\n",
    "# f_value, y_hat, y 의 각 row 를 vertical 로 쌓아올린다\n",
    "# .T 행을 열로 변환(Transpose)한다.\n",
    "\n",
    "df = pd.DataFrame(np.vstack([f_value, y_hat, y]).T, columns=[\"f\", \"y_hat\", \"y\"])\n",
    "df.sort_values(\"f\", ascending=False).reset_index(drop=True)"
   ]
  },
  {
   "cell_type": "code",
   "execution_count": 17,
   "id": "45937cad",
   "metadata": {},
   "outputs": [
    {
     "data": {
      "text/plain": [
       "(array([0.   , 0.   , 0.   , 0.125, 0.125, 0.375, 0.375, 1.   ]),\n",
       " array([0.   , 0.125, 0.75 , 0.75 , 0.875, 0.875, 1.   , 1.   ]),\n",
       " array([ 3.36316277,  2.36316277,  1.21967832,  0.37829565,  0.09428499,\n",
       "        -0.76588836, -0.92693183, -4.11896895]))"
      ]
     },
     "execution_count": 17,
     "metadata": {},
     "output_type": "execute_result"
    }
   ],
   "source": [
    "# ROC Curve 산출\n",
    "from sklearn.metrics import roc_curve\n",
    "\n",
    "fpr, tpr, threshold = roc_curve(y, f_value)\n",
    "fpr, tpr, threshold # fallout, recall, threshold"
   ]
  },
  {
   "cell_type": "code",
   "execution_count": 31,
   "id": "3c3a56de",
   "metadata": {},
   "outputs": [
    {
     "data": {
      "image/png": "[encoded data removed]",
      "text/plain": [
       "<Figure size 432x288 with 1 Axes>"
      ]
     },
     "metadata": {
      "needs_background": "light"
     },
     "output_type": "display_data"
    }
   ],
   "source": [
    "# 도식화\n",
    "import matplotlib.pyplot as plt\n",
    "plt.plot(fpr, tpr, 'o-', label='Logistic Regression')\n",
    "plt.plot([0, 1], [0, 1], 'k--', label='Random Guess')\n",
    "# plt.plot([fallout], [recall], 'ro', ms=10)\n",
    "plt.xlabel(\"fallout\")\n",
    "plt.ylabel(\"recall\")\n",
    "plt.title(\"Receiver operating characteristic example\")\n",
    "plt.show()"
   ]
  },
  {
   "cell_type": "markdown",
   "id": "82c5b0c3",
   "metadata": {},
   "source": [
    "### AUC (Area under curve)"
   ]
  },
  {
   "cell_type": "code",
   "execution_count": 32,
   "id": "4501df15",
   "metadata": {},
   "outputs": [
    {
     "data": {
      "text/plain": [
       "0.9375"
      ]
     },
     "execution_count": 32,
     "metadata": {},
     "output_type": "execute_result"
    }
   ],
   "source": [
    "# ROC Curve 의 아래 면적을 계산\n",
    "from sklearn.metrics import auc\n",
    "auc(fpr, tpr)"
   ]
  },
  {
   "cell_type": "markdown",
   "id": "bff9a475",
   "metadata": {},
   "source": [
    "# 다중클래스 분류에서의 성능 평가\n",
    "\n",
    "OvR 문제로 가정하고, 각각의 케이스 마다 ROC Curve 를 그려서 확인한다.\n",
    "\n",
    "예) iris 데이터의 경우 분류예측의 클래스 (3종류의 꽃) 각각에 대해서 ROC Curve 를 수행하게 된다."
   ]
  },
  {
   "cell_type": "markdown",
   "id": "325a81a5",
   "metadata": {},
   "source": []
  }
 ],
 "metadata": {
  "kernelspec": {
   "display_name": "Python 3",
   "language": "python",
   "name": "python3"
  },
  "language_info": {
   "codemirror_mode": {
    "name": "ipython",
    "version": 3
   },
   "file_extension": ".py",
   "mimetype": "text/x-python",
   "name": "python",
   "nbconvert_exporter": "python",
   "pygments_lexer": "ipython3",
   "version": "3.8.8"
  }
 },
 "nbformat": 4,
 "nbformat_minor": 5
}
