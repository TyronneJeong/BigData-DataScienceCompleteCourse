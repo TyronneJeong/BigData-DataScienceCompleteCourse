{
 "cells": [
  {
   "cell_type": "markdown",
   "id": "8bbc8c29",
   "metadata": {},
   "source": [
    "# 분류모형개요\n",
    "\n",
    "\n",
    "**분류문제**\n",
    "- 분류(Classification)문제는 독립변수값이 주어졌을때 그 값과 가장 연관성이 큰 **종속변수(클래스)** 값을 예측하는 문제.\n",
    "\n",
    "\n",
    "\\\n",
    "**분류모형**  \n",
    "분류문제를 푸는 방법 또는 방법론\n",
    " - **확률적모형** : 주어진 데이터를 이용하여 모든 조건부 확률을 계산하여 가장 높은 확률 값으로 예측하는 방법\n",
    "   - 확률적판별모형 : 베이즈 정리를 사용하지 않는 모형\n",
    "   - 확률적생성모형 : 베이즈 정리를 이용한 모형\n",
    " - **판별함수모형** : 판별함수(discriminant function)를 이용한 방법."
   ]
  },
  {
   "cell_type": "markdown",
   "id": "1fba16fd",
   "metadata": {},
   "source": [
    "## 확률적 모형\n",
    "\n",
    "출력 변수 y 는 K개의 클래스에 속하는 값들 중 하나를 가진다고 가정할 때, 확률적 모형은 주어진 x에 따른 결과 y가 클래스에 속할 확률 $P(y=k|x)$ 확률을 모두 계산한 후 가장 높은 확률의 카테고리 값을 선택한다.\n",
    "\n",
    "$$\n",
    "\\hat{y} = \\arg \\max_k P(y = k | x)\n",
    "$$\n",
    "\n",
    "예) 이미지 분류 문제에서 3000개의 카테고리 값이 출력 변수라면 3000개의 이미지 각각에 대해 주어진 x 가 일치할 확률 값을 모두 계산한다.\n",
    "\n",
    "[확률적 모형 사용 메서드]\n",
    "```python\n",
    "# 예측된 결과를 리턴한다.\n",
    "model.predict(X)\n",
    "\n",
    "# 각 카테고리별 확률 값을 리턴 한다.\n",
    "model.predict_proba(X)\n",
    "\n",
    "# 각 카테고리별 확률 값의 로그를 리턴 한다.\n",
    "model.predict_log_proba(X)\n",
    "\n",
    "```"
   ]
  },
  {
   "cell_type": "markdown",
   "id": "813b8198",
   "metadata": {},
   "source": [
    "### 확률적 생성모형 (베이즈정리)\n",
    "\n",
    "1. 새로운 가상의 특징 데이터를 생성해내거나 특징 데이터 만으로도 아웃라이어를 판단할 수 있다.  \n",
    "2. 카테고리값이 2개이상인 경우에도 바로 적용하여 확인 가능하다.\n",
    "3. 하지만, 클래스가 많을 경우 모든 클래스에 대해 $P(x|y=k)$ 를 추정하는데에는 많은 자원과 계산량이 소모되는 단점이 있다.\n",
    "\n",
    "\n",
    "$$\n",
    "P(y=k|x) = {P(x|y=k)P(y=k) \\over P(x)}\n",
    "$$\n",
    "\n",
    "\n",
    "생성모형에서는 전체 확률의 법칙을 이용하여 특징 데이터 x의 무조건부 확률분포 P(x)를 구할 수 있다.\n",
    "\n",
    "$$\n",
    "P(x) = \\sum^K_{k=1}P(x|y=k)P(y=k)\n",
    "$$\n",
    "\n",
    "\n",
    "$P(x|y=k)$ : likelyhood\n",
    "답이 주어졌을때 x를 구할 수 있을 확률  \n",
    "예) 고양이라는 답이 주어졌을때, 이 정보의 특징을 불러와 고양이 그림을 생성 할 확률.\n",
    "\n",
    "설명) 예측결과 값이 주어질때 **저장된 특징 벡터들을 이용해 그림(특징 벡터의 조합)을 추론해 낼 수 있다.** 때문에 이를 **생성 모형**이라고 부른다.\n",
    "\n",
    "\n",
    "\n",
    "- LDA/QDA\n",
    "- 나이브 베이지만\n",
    "\n",
    "\n"
   ]
  },
  {
   "cell_type": "code",
   "execution_count": 9,
   "id": "35eff256",
   "metadata": {},
   "outputs": [],
   "source": [
    "#"
   ]
  },
  {
   "cell_type": "markdown",
   "id": "7bbd8332",
   "metadata": {},
   "source": [
    "### 확률적 판별모형\n",
    "\n",
    "x가 주어졌을때 y가 K개의 카테고리중에 하나일 확률을 구하는 함수 f(x) 를 찾는 것.\n",
    "\n",
    "\n",
    "$$\n",
    "P(y=k|x) = f(x)\n",
    "$$\n",
    "\n",
    "- 로지스틱 회귀\n",
    "- 의사결정나무\n",
    "\n"
   ]
  },
  {
   "cell_type": "markdown",
   "id": "3f83f80b",
   "metadata": {},
   "source": [
    "### 판별함수모형\n",
    "예측 결과값 y 를 도출하는 독립변수 $X$가 군집을 이룬다고 가정 할때. 결과값 $y$ 를 도출 하는 $X$를 클래스별로 경계면을 나눌 수 있는데. 이때 경계면을 으로부터 각 클래스의 거리를 계산하는 함수 $f(x)$ 를 판별함수(discriminant function)이라고 한다. \n",
    "\n",
    "### <center>  때문에 경계면의 안 과 밖 이진 분류만 가능하다.</center>\n",
    "\n",
    "**※ 확률적 판별모형과의 차이**  \n",
    "학률적 판별모형의 함수 $f(x)$ 는 확률값을 계산하는 함수를 의미함.  \n",
    "<span style=\"color:red\">판별함수모형은 확률값을 계산하는 함수가 아닌 분류를 판별하는 T/F 형식의 함수를 말함.  </span>\n",
    "\n",
    "예) 다중퍼셉트론에서 노드와 노드로 데이터가 흐를떄 지속 여부를 관장하는 **활성함수(Activation Function)**를 거쳐 최종 분류 모형이 결정 되는 방식이 판별함수를 적용한 예라고 할 수 있다\n",
    "\n",
    "이때 판별함수를 통해 분류된 카레고리값들의 경계면을 **하이퍼 플레인(decision hyperplane)** 이라고 한다.\n",
    "\n",
    "- 퍼셉트론\n",
    "- 서포트벡터머신\n",
    "- 인공신경망"
   ]
  },
  {
   "cell_type": "code",
   "execution_count": null,
   "id": "e485405a",
   "metadata": {},
   "outputs": [],
   "source": [
    "# 판별함수모형\n"
   ]
  },
  {
   "cell_type": "markdown",
   "id": "e1280a68",
   "metadata": {},
   "source": [
    "**※ 다중클래스 분류**  \n",
    "판별함수모형의 경우 이진 분류 형태로 밖에 학습 분류가 불가능 하다. 하지만 다중 클래스 분류문제로 변환하여 이를 해결 할 수 있는데 **OvO(One-Vs-One) 방법**과 **OvR(One-Vs-Rest) 방법**을 이용할 수 있다.\n",
    "\n"
   ]
  },
  {
   "cell_type": "code",
   "execution_count": null,
   "id": "389f9340",
   "metadata": {},
   "outputs": [],
   "source": []
  }
 ],
 "metadata": {
  "kernelspec": {
   "display_name": "Python 3",
   "language": "python",
   "name": "python3"
  },
  "language_info": {
   "codemirror_mode": {
    "name": "ipython",
    "version": 3
   },
   "file_extension": ".py",
   "mimetype": "text/x-python",
   "name": "python",
   "nbconvert_exporter": "python",
   "pygments_lexer": "ipython3",
   "version": "3.8.8"
  }
 },
 "nbformat": 4,
 "nbformat_minor": 5
}
