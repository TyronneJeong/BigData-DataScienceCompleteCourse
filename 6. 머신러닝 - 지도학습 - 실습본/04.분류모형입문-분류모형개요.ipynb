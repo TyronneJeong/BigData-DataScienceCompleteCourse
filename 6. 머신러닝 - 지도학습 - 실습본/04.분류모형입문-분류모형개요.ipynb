{
 "cells": [
  {
   "cell_type": "markdown",
   "id": "fd98a1ae",
   "metadata": {},
   "source": [
    "# 분류모형개요\n",
    "\n",
    "\n",
    "**분류문제**\n",
    "- 분류(Classification)문제는 독립변수값이 주어졌을때 그 값과 가장 연관성이 큰 **종속변수(클래스)** 값을 예측하는 문제.\n",
    "\n",
    "**분류모형**\n",
    "- 분류문제를 푸는 방법 또는 방법론\n",
    " - 확률적 방법 : 주어진 데이터를 이용하여 모든 조건부 확률을 계산하여 가장 높은 확률 값으로 예측하는 방법\n",
    " - 판별적 방법 : 판별함수(discriminant function)를 이용한 방법."
   ]
  },
  {
   "cell_type": "code",
   "execution_count": null,
   "id": "340b92ed",
   "metadata": {},
   "outputs": [],
   "source": [
    "로지스틱회귀\n",
    "나이브베이즈\n",
    "의사결정나무\n",
    "랜덤포레스트\n",
    "서포트벡터머신\n"
   ]
  },
  {
   "cell_type": "code",
   "execution_count": null,
   "id": "ba8b403c",
   "metadata": {},
   "outputs": [],
   "source": []
  }
 ],
 "metadata": {
  "kernelspec": {
   "display_name": "Python 3",
   "language": "python",
   "name": "python3"
  },
  "language_info": {
   "codemirror_mode": {
    "name": "ipython",
    "version": 3
   },
   "file_extension": ".py",
   "mimetype": "text/x-python",
   "name": "python",
   "nbconvert_exporter": "python",
   "pygments_lexer": "ipython3",
   "version": "3.8.8"
  }
 },
 "nbformat": 4,
 "nbformat_minor": 5
}
