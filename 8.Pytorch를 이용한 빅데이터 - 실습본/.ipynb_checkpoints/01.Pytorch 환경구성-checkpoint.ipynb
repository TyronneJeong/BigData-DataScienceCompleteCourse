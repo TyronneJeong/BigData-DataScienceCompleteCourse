{
 "cells": [
  {
   "cell_type": "markdown",
   "id": "8ca21903",
   "metadata": {},
   "source": [
    "# pytorch\n",
    "\n",
    "- 파이토치는 **페이스북에서 만든 딥러닝 프레임워크 모듈**이다. 사용자 편의성 중심의 인터페이스 레이어를 하나 더 추가된 fastai 가 있다. 이는 구글의 tensorflow + keras 와 유사한 형태이다.\n",
    "\n",
    "\n",
    "### pytorch 설치\n",
    "\n",
    "- 파일 다운로드 : [pytorch 사용자포럼](https://pytorch.kr/get-started/locally/)\n",
    "- GPU 가속 옵션을 사용하기 위해서는 NVIDIA CUDA 프로젝트 설치 필요\n",
    "- 설치환경에 맞춘 설치 명령어 확인 : conda install pytorch torchvision torchaudio cudatoolkit=10.2 -c pytorch"
   ]
  },
  {
   "cell_type": "code",
   "execution_count": 2,
   "id": "51fed221",
   "metadata": {},
   "outputs": [
    {
     "data": {
      "text/plain": [
       "True"
      ]
     },
     "execution_count": 2,
     "metadata": {},
     "output_type": "execute_result"
    }
   ],
   "source": [
    "# GPU 가속 사용 가능 여부 확인\n",
    "import torch\n",
    "torch.cuda.is_available()"
   ]
  },
  {
   "cell_type": "markdown",
   "id": "c4923965",
   "metadata": {},
   "source": [
    "### fastai 설치\n",
    "- pip인스톨러 사용 : pip install fastai"
   ]
  },
  {
   "cell_type": "code",
   "execution_count": 3,
   "id": "f5855dc4",
   "metadata": {},
   "outputs": [],
   "source": [
    "# 설치확인\n",
    "from fastai.vision.all import *"
   ]
  }
 ],
 "metadata": {
  "kernelspec": {
   "display_name": "Python 3",
   "language": "python",
   "name": "python3"
  },
  "language_info": {
   "codemirror_mode": {
    "name": "ipython",
    "version": 3
   },
   "file_extension": ".py",
   "mimetype": "text/x-python",
   "name": "python",
   "nbconvert_exporter": "python",
   "pygments_lexer": "ipython3",
   "version": "3.8.8"
  }
 },
 "nbformat": 4,
 "nbformat_minor": 5
}
