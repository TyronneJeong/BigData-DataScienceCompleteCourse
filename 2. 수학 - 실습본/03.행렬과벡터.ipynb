{
 "cells": [
  {
   "cell_type": "markdown",
   "id": "3d5f82e0",
   "metadata": {},
   "source": [
    "# 행렬과 벡터"
   ]
  },
  {
   "cell_type": "code",
   "execution_count": 6,
   "id": "40eaaaaa",
   "metadata": {},
   "outputs": [],
   "source": [
    "import numpy as np"
   ]
  },
  {
   "cell_type": "markdown",
   "id": "a256a292",
   "metadata": {},
   "source": [
    "### 행렬의 행/열 표기법\n",
    "\n",
    "행렬(Matrix) X를 행과 열로 각각 표기하면 아래와 같다.\n",
    "\n",
    "$$X = [c_1, c_2, \\dots c_M] = \\begin{bmatrix} r^T_1 \\\\ r^T_2 \\\\ \\vdots \\\\r^T_N \\end{bmatrix}$$\n",
    "\n",
    "해석)  \n",
    "행렬 X 는 컬럼 $c_1$, $c_2$, $\\dots$ $c_M$ 으로 구성되어 있다.  \n",
    "행렬 X 는 로우 $r^T_1$, $r^T_2$, $\\dots$ $r^T_N$ 으로 구성되어 있다.\n",
    "\n",
    "\n",
    "- $c$ : (column) 열(컬럼)\n",
    "- $r^T$ : (row) 행(로우) transpose 는 열로 나열된 항목의 x,y 축을 회전 시킨 다."
   ]
  },
  {
   "cell_type": "markdown",
   "id": "07ffb0a5",
   "metadata": {},
   "source": [
    "### 특수한 벡터와 행렬"
   ]
  },
  {
   "cell_type": "markdown",
   "id": "f99d7e0b",
   "metadata": {},
   "source": [
    "#### 영벡터 (zero-vector)\n",
    "- 모든 원소가 0으로 이루어진 벡터\n",
    "\n",
    "$$0_N = 0 = \\begin{bmatrix} 0 \\\\ 0 \\\\ \\vdots \\\\0 \\end{bmatrix}$$"
   ]
  },
  {
   "cell_type": "code",
   "execution_count": 14,
   "id": "45f2ea2d",
   "metadata": {},
   "outputs": [
    {
     "data": {
      "text/plain": [
       "array([[0., 0., 0.],\n",
       "       [0., 0., 0.],\n",
       "       [0., 0., 0.]])"
      ]
     },
     "execution_count": 14,
     "metadata": {},
     "output_type": "execute_result"
    }
   ],
   "source": [
    "np.zeros([3, 3])"
   ]
  },
  {
   "cell_type": "markdown",
   "id": "f91fc239",
   "metadata": {},
   "source": [
    "#### 일벡터 (one-vector)\n",
    "- 모든 원소가 1으로 이루어진 벡터\n",
    "\n",
    "$$1_N = 1 = \\begin{bmatrix} 1 \\\\ 1 \\\\ \\vdots \\\\1 \\end{bmatrix}$$"
   ]
  },
  {
   "cell_type": "code",
   "execution_count": 13,
   "id": "d08b095c",
   "metadata": {},
   "outputs": [
    {
     "data": {
      "text/plain": [
       "array([[1., 1., 1.],\n",
       "       [1., 1., 1.],\n",
       "       [1., 1., 1.]])"
      ]
     },
     "execution_count": 13,
     "metadata": {},
     "output_type": "execute_result"
    }
   ],
   "source": [
    "np.ones([3, 3])"
   ]
  },
  {
   "cell_type": "markdown",
   "id": "f04f7b7d",
   "metadata": {},
   "source": [
    "#### 정방행렬 (square-matrix)\n",
    "- 행과 열의 수가 같은 행렬\n",
    "$$ \\begin{bmatrix} \n",
    "1\\;\\;2\\;\\;\\dots\\;\\;0 \\\\\n",
    "0\\;\\;1\\;\\;\\dots\\;\\;2 \\\\\n",
    "\\vdots\\;\\;\\;\\vdots\\;\\;\\ddots\\;\\;\\vdots\\\\ \n",
    "1\\;\\;\\;0\\;\\;\\;2\\;\\;\\;1\\end{bmatrix}$$\n"
   ]
  },
  {
   "cell_type": "markdown",
   "id": "a99ecd43",
   "metadata": {},
   "source": [
    "#### 대각행렬 (diagonal matrix)\n",
    "- 대각(diagonal) : 사선 방향의 원소들을 일컫는다.\n",
    "- 대각행렬(diagonal matrix) : 대각을 제외한 나머지가 모두 0으로 구성된 행렬\n",
    "\n",
    "$$ D = \\begin{bmatrix} \n",
    "d_1\\;\\;0\\;\\;\\dots\\;\\;0 \\\\\n",
    "0\\;\\;d_2\\;\\;\\dots\\;\\;0 \\\\\n",
    "\\vdots\\;\\;\\;\\vdots\\;\\;\\ddots\\;\\;\\vdots\\\\ \n",
    "0\\;\\;\\;0\\;\\;\\;0\\;\\;d_N\\end{bmatrix}$$\n"
   ]
  },
  {
   "cell_type": "code",
   "execution_count": 10,
   "id": "e7d5a1e7",
   "metadata": {},
   "outputs": [
    {
     "data": {
      "text/plain": [
       "array([[1, 0, 0],\n",
       "       [0, 2, 0],\n",
       "       [0, 0, 3]])"
      ]
     },
     "execution_count": 10,
     "metadata": {},
     "output_type": "execute_result"
    }
   ],
   "source": [
    "np.diag([1, 2, 3])"
   ]
  },
  {
   "cell_type": "markdown",
   "id": "a4a790a8",
   "metadata": {},
   "source": [
    "#### 항등행렬 (identity matrix)\n",
    "- 대각 행렬 중에서도 모든 대각성분의 값이 1로 구성된 행렬을 항등행렬이라고 한다.\n",
    "\n",
    "$$ I = \\begin{bmatrix} \n",
    "1\\;\\;0\\;\\;\\dots\\;\\;0 \\\\\n",
    "0\\;\\;1\\;\\;\\dots\\;\\;0 \\\\\n",
    "\\vdots\\;\\;\\;\\vdots\\;\\;\\ddots\\;\\;\\vdots\\\\ \n",
    "0\\;\\;\\;0\\;\\;\\;0\\;\\;\\;1\\end{bmatrix}$$"
   ]
  },
  {
   "cell_type": "code",
   "execution_count": 7,
   "id": "862200b1",
   "metadata": {},
   "outputs": [
    {
     "data": {
      "text/plain": [
       "array([[1., 0., 0.],\n",
       "       [0., 1., 0.],\n",
       "       [0., 0., 1.]])"
      ]
     },
     "execution_count": 7,
     "metadata": {},
     "output_type": "execute_result"
    }
   ],
   "source": [
    "np.identity(3)"
   ]
  },
  {
   "cell_type": "markdown",
   "id": "830560f8",
   "metadata": {},
   "source": [
    "#### 대칭행렬 (symmetric matrix)\n",
    "- 전치연산(transpose)을 적용하여도 적용전과 동일한 행렬을 대칭행렬이라고 한다.\n",
    "$$S^T = S$$"
   ]
  },
  {
   "cell_type": "code",
   "execution_count": null,
   "id": "e3181c54",
   "metadata": {},
   "outputs": [],
   "source": []
  }
 ],
 "metadata": {
  "kernelspec": {
   "display_name": "Python 3",
   "language": "python",
   "name": "python3"
  },
  "language_info": {
   "codemirror_mode": {
    "name": "ipython",
    "version": 3
   },
   "file_extension": ".py",
   "mimetype": "text/x-python",
   "name": "python",
   "nbconvert_exporter": "python",
   "pygments_lexer": "ipython3",
   "version": "3.8.8"
  }
 },
 "nbformat": 4,
 "nbformat_minor": 5
}
