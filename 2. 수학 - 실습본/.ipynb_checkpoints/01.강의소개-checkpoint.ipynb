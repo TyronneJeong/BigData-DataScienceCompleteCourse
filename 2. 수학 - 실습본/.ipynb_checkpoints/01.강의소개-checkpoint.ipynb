{
 "cells": [
  {
   "cell_type": "markdown",
   "id": "2aeb684d",
   "metadata": {},
   "source": [
    "# 강의소개\n",
    "\n",
    "\n",
    "저자 : 김도형  \n",
    "강의사이트 : [데이터사이언스스쿨](https://datascienceschool.net/intro.html)  \n",
    "\n",
    "- 퀀트 : quantitative(계량적) + analyst(분석가) 수학과 통계에 기반해 투자모델을 만들거나 금융시장 변화를 예측하는 사람들을 말한다.\n",
    "\n",
    "\n",
    "\n",
    "**[주요강의내용]**\n",
    "\n",
    "수학\n",
    "- 수학기호 : LaTeX\n",
    "- 선형대수 : Numpy\n",
    "- 함수와 미적분 : Sympy\n",
    "- 최적화 : Scipy\n",
    "- 확률론 : pgmpy"
   ]
  },
  {
   "cell_type": "markdown",
   "id": "bb3090f7",
   "metadata": {},
   "source": [
    "#### 주요라이브러리\n",
    "\n",
    "```python\n",
    "import numpy as np\n",
    "import pandas as pd\n",
    "import scipy as sp\n",
    "import matplotlib.pyplot as plt\n",
    "import seaborn as sns\n",
    "import sklearn as sk\n",
    "import statsmodels.api as sm\n",
    "```"
   ]
  },
  {
   "cell_type": "markdown",
   "id": "0f43636a",
   "metadata": {},
   "source": [
    "### 선형대수 Linear Algebra\n",
    "- 데이터를 다루는데 필요한 기술용어를 다룬 학문"
   ]
  },
  {
   "cell_type": "markdown",
   "id": "d449b8d1",
   "metadata": {},
   "source": [
    "### 함수와 미적분 Funtion and Calculus\n",
    "- **(범)함수** : 데이터 분석 결과와 품질을 표현하는 방법\n",
    "- **예측문제** : 입력 데이터를 넣으면 원하는 출력 데이터를 계산해내는 함수 찾기\n",
    "- **미적분** : 함수의 특징을 기술하는 방법\n"
   ]
  },
  {
   "cell_type": "markdown",
   "id": "ee239566",
   "metadata": {},
   "source": [
    "### 최적화 Optimization\n",
    "- 최적화 : 가장좋은 함수의 입력값 혹은 함수를 찾는 작업\n",
    "- 이를 위해 미분이 필요함"
   ]
  },
  {
   "cell_type": "markdown",
   "id": "1fcd9dc8",
   "metadata": {},
   "source": [
    "### 확률론 Probability\n",
    "- 데이터 분석, 머신러닝은 데이터로부터 지식(명제)를 이끌어 내는 작업\n",
    "- **고전 논리학** : 참 또는 거짓을 다루는 논리학\n",
    "- **근대 논리학** : 70% 정도의 확률로 진실을 가지는 진실성을 다루는 논리학."
   ]
  },
  {
   "cell_type": "code",
   "execution_count": null,
   "id": "bb8a6cd0",
   "metadata": {},
   "outputs": [],
   "source": []
  }
 ],
 "metadata": {
  "kernelspec": {
   "display_name": "Python 3",
   "language": "python",
   "name": "python3"
  },
  "language_info": {
   "codemirror_mode": {
    "name": "ipython",
    "version": 3
   },
   "file_extension": ".py",
   "mimetype": "text/x-python",
   "name": "python",
   "nbconvert_exporter": "python",
   "pygments_lexer": "ipython3",
   "version": "3.8.8"
  }
 },
 "nbformat": 4,
 "nbformat_minor": 5
}
