{
 "cells": [
  {
   "cell_type": "markdown",
   "id": "d40fda8c",
   "metadata": {},
   "source": [
    "# 행렬과 벡터의 곱셈"
   ]
  },
  {
   "cell_type": "markdown",
   "id": "55301c12",
   "metadata": {},
   "source": [
    "1. 행렬과 행렬의 곱 = $Scala$\n",
    "2. 벡터와 벡터의 곱 = $N \\times M$\n",
    "3. 행렬과 벡터의 곱 = $Mv$"
   ]
  },
  {
   "cell_type": "markdown",
   "id": "cd6af042",
   "metadata": {},
   "source": [
    "## 열 벡터의 선형 조합\n",
    "- 행렬 $X$와 벡터 $w$의 곱은 행렬 $X$를 이루는 각 열벡터$(c_1, c_2, \\dots, c_M)$와 벡터의 각 성분$(w_1, w_2, \\dots, w_M)$이 곱한후 더해진 선형조합(linear combination)과 같다.\n",
    "\n",
    "$$ Xw = [c_1, c_2, \\dots, c_M] \\begin{bmatrix} w_1 \\\\ w_2 \\\\ \\vdots \\\\ w_M \\end{bmatrix}  = w_1c_1 + w_2c_1 + \\dots + w_Mc_M $$\n",
    "\n",
    "#### <span style=\"color:red\">선형조합 (linear combination)</span>\n",
    "- 벡터/행렬에 스칼라를 곱한후 더하거나 뺀것  \n",
    "$$c_1x_1 + c_2x_2 + c_3x_3 + \\dots + c_Lx_L = X$$  "
   ]
  },
  {
   "cell_type": "code",
   "execution_count": 10,
   "id": "dcf43adc",
   "metadata": {},
   "outputs": [
    {
     "name": "stdout",
     "output_type": "stream",
     "text": [
      "[[20]\n",
      " [47]]\n",
      "20\n",
      "47\n",
      "[20 47]\n"
     ]
    }
   ],
   "source": [
    "import numpy as np\n",
    "\n",
    "# 열 벡터의 선형 조합\n",
    "X = np.array([[1, 2, 3], [4, 5, 6]])\n",
    "w = np.array([[2], [3], [4]])\n",
    "R = X @ w\n",
    "print(R)\n",
    "\n",
    "# 풀이 방법 1) 열과 벡터로 보는 법\n",
    "print((1*2 + 2*3 + 3*4))\n",
    "print((4*2 + 5*3 + 6*4))\n",
    "\n",
    "# 풀이 방법 2) 행과 벡터로 보는 법\n",
    "c1 = np.array([1, 4])\n",
    "c2 = np.array([2, 5])\n",
    "c3 = np.array([3, 6])\n",
    "print(2*c1 + 3*c2 + 4*c3)"
   ]
  },
  {
   "cell_type": "markdown",
   "id": "ad65a40e",
   "metadata": {},
   "source": [
    "#### 벡터의 선형조합의 예\n",
    "- 독립변수의 행렬 $X$ (feature matrix) 를 조립 하고 각 독립 변수들에 가중치를 곱하는 선형회귀에 등장한다.\n",
    "$$\n",
    "\\hat{y} = \n",
    "\\begin{bmatrix} \\hat{y}_1 \\\\ \\hat{y}_2 \\\\ \\vdots \\\\ \\hat{y}_M \\end{bmatrix}\n",
    " = \n",
    "\\begin{bmatrix} w_1x_{1, 1} + w_2x_{1, 2} + \\dots + w_Nx_{1, N} \\\\ w_1x_{2, 1} + w_2x_{2, 2} + \\dots + w_Nx_{2, N} \\\\ \\vdots \\\\ w_1x_{M, 1} + w_2x_{M, 2} + \\dots + w_Nx_{M, N} \\\\ \n",
    "\\end{bmatrix} \n",
    "$$\n",
    "\\\n",
    "$$\\;\\;\\;\\;\\;\\;= \n",
    "\\begin{bmatrix} x_{1, 1}\\;x_{1, 2}\\;\\dots\\;x_{1, N} \n",
    "\\\\ x_{2, 1}\\;x_{2, 2}\\;\\dots\\;x_{2, N}\n",
    "\\\\ \\vdots\\;\\;\\;\\;\\vdots\\;\\;\\;\\;\\vdots\\;\\;\\;\\;\\vdots\n",
    "\\\\ x_{M, 1}\\;x_{M, 2}\\;\\dots\\;x_{M, N}\n",
    "\\end{bmatrix} \n",
    "\\begin{bmatrix} w_1\n",
    "\\\\ w_2\n",
    "\\\\ \\vdots\n",
    "\\\\ w_N\n",
    "\\end{bmatrix}\n",
    "$$\n",
    "\\\n",
    "$$ = \n",
    "\\begin{bmatrix}\n",
    "x^T_1\n",
    "\\\\ x^T_2\n",
    "\\\\ \\dots\n",
    "\\\\ x^T_M\n",
    "\\end{bmatrix}\n",
    "\\begin{bmatrix}\n",
    "w^T_1\n",
    "\\\\ w^T_2\n",
    "\\\\ \\dots\n",
    "\\\\ w^T_N\n",
    "\\end{bmatrix}\n",
    "\\;\\;\\;\\;\\;\\;\\;\\;\\;\\;\\;\\;\\;\\;\\;\\;\\;\n",
    "$$\n",
    "\\\n",
    "$$\n",
    "= Xw\\;\\;\\;\\;\\;\\;\\;\\;\\;\\;\\;\\;\\;\\;\\;\\;\\;\\;\\;\\;\\;\\;\\;\\;\\;\\;\\;\\;\\;\\;\\;\n",
    "$$"
   ]
  },
  {
   "cell_type": "code",
   "execution_count": null,
   "id": "bd0e336b",
   "metadata": {},
   "outputs": [],
   "source": []
  }
 ],
 "metadata": {
  "kernelspec": {
   "display_name": "Python 3",
   "language": "python",
   "name": "python3"
  },
  "language_info": {
   "codemirror_mode": {
    "name": "ipython",
    "version": 3
   },
   "file_extension": ".py",
   "mimetype": "text/x-python",
   "name": "python",
   "nbconvert_exporter": "python",
   "pygments_lexer": "ipython3",
   "version": "3.8.8"
  }
 },
 "nbformat": 4,
 "nbformat_minor": 5
}
