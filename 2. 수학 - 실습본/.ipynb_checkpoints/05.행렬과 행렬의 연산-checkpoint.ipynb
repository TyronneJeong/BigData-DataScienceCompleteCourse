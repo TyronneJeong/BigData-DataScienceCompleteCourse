{
 "cells": [
  {
   "cell_type": "markdown",
   "id": "983bdc40",
   "metadata": {},
   "source": [
    "# 행렬과 행렬의 연산"
   ]
  },
  {
   "cell_type": "markdown",
   "id": "ce7df78c",
   "metadata": {},
   "source": [
    "## 제곱합\n"
   ]
  },
  {
   "cell_type": "code",
   "execution_count": null,
   "id": "54e1fa88",
   "metadata": {},
   "outputs": [],
   "source": []
  }
 ],
 "metadata": {
  "kernelspec": {
   "display_name": "Python 3",
   "language": "python",
   "name": "python3"
  },
  "language_info": {
   "codemirror_mode": {
    "name": "ipython",
    "version": 3
   },
   "file_extension": ".py",
   "mimetype": "text/x-python",
   "name": "python",
   "nbconvert_exporter": "python",
   "pygments_lexer": "ipython3",
   "version": "3.8.8"
  }
 },
 "nbformat": 4,
 "nbformat_minor": 5
}
