{
 "cells": [
  {
   "cell_type": "markdown",
   "id": "ba412bb5",
   "metadata": {},
   "source": [
    "# 행렬과 행렬의 곱셈\n",
    "\n",
    "\n",
    "- 벡터의 곱셈을 정의한 후에는 이를 이용하여 행렬의 곱셈을 정의할 수 있다.\n",
    "- <span style=\"color:red\"> **행렬의 곱은 앞의 행렬의 열의 개수와 뒤의 행렬의 행의 개수가 같아야 한다.** </span>  \n",
    "- 행렬 A와 행렬 B를 곱한 결과가 행렬C라고 할때,\n",
    "  C의 i번째 행, j번째 열의 원소 값은 행렬A의 i번째 행 $a^T_i$ 와 행렬B의 j번째 열 벡터 $b_j$의 곱과 같다.  \n",
    "$$C = AB \\rightarrow C_{ij} = a^T_ib_j $$\n",
    "\n",
    "\n",
    "\n",
    "- 행렬 * 행렬 = 행렬 이다. 행렬의 크기는 아래와 같다.\n",
    "$$A \\in R^{N \\times 1}, B \\in R^{1 \\times M} \\rightarrow AB \\in R^{N \\times M}$$\n",
    "\n",
    "즉, 행렬 A의 y 크기 행렬 B의 x 크기의 행렬이 생성된다.  \n",
    "ex) **4 $\\times$ 3 행렬과 3 $\\times$ 2 행렬을 곱하는 경우 4 $\\times$ 2 행렬이 생성**된다."
   ]
  },
  {
   "cell_type": "code",
   "execution_count": 2,
   "id": "659942d1",
   "metadata": {},
   "outputs": [
    {
     "data": {
      "text/plain": [
       "array([[22, 28],\n",
       "       [49, 64]])"
      ]
     },
     "execution_count": 2,
     "metadata": {},
     "output_type": "execute_result"
    }
   ],
   "source": [
    "# 행렬간 곱셈\n",
    "import numpy as np\n",
    "A = np.array([[1, 2, 3],\n",
    "            [4, 5, 6]])\n",
    "\n",
    "B = np.array([[1, 2],\n",
    "             [3, 4],\n",
    "             [5, 6]])\n",
    "A @ B\n",
    "\n",
    "# [1, 6, 15], [2, 8, 18], (1row * 1col), (1row * 2col)\n",
    "# [4, 15, 30], [8, 20, 36] (2row * 1col), (2row * 2col)"
   ]
  },
  {
   "cell_type": "markdown",
   "id": "61ba5224",
   "metadata": {},
   "source": [
    "### 교환 법칙과 분배 법칙\n",
    "- 행렬간 곱센에서는 **분배 법칙이 적용**된다.\n",
    "- 행렬간 곱셈에서는 <span style=\"color:Red\">교환 법칙이 성립되지 않는다.</span>\n",
    "\n",
    "\n",
    "$$AB \\neq BA$$\n",
    "$$A(B + C) = AB + AC$$\n",
    "$$(A + B)C = AC + BC$$"
   ]
  },
  {
   "cell_type": "code",
   "execution_count": 33,
   "id": "c379c54e",
   "metadata": {},
   "outputs": [
    {
     "name": "stdout",
     "output_type": "stream",
     "text": [
      "[[19 22]\n",
      " [43 50]]\n",
      "[[23 34]\n",
      " [31 46]]\n",
      "\n",
      "[[42 42]\n",
      " [98 98]]\n",
      "[[42 42]\n",
      " [98 98]]\n"
     ]
    }
   ],
   "source": [
    "# 코드 예제\n",
    "A = np.array([[1, 2], [3, 4]])\n",
    "B = np.array([[5, 6], [7, 8]])\n",
    "C = np.array([[9, 8], [7, 6]])\n",
    "\n",
    "# AB 는 BA 와 같지 않다. (교환법칙 성립X)\n",
    "print(A @ B)\n",
    "print(B @ A)\n",
    "\n",
    "print()\n",
    "# A(B%C) = AB % AC 와 같다. (분배법칙 성립O)\n",
    "print(A @ (B+C))\n",
    "print(A@B + A@C)\n"
   ]
  },
  {
   "cell_type": "markdown",
   "id": "c4783bf4",
   "metadata": {},
   "source": [
    "#### 전치연산(Transpose)의 분배\n",
    "\n"
   ]
  },
  {
   "cell_type": "markdown",
   "id": "56495591",
   "metadata": {},
   "source": [
    "- 전치연산도 분배법칙이 성립한다.\n",
    "$$(A + B)^T = A^T + B^T$$  \n",
    "  \n",
    "  \n",
    "  \n",
    "  \n",
    "- 단, 행렬간 곱에서는 행렬 A와 행렬 B를 전치연산시 그 순서가 역전 된다.\n",
    "$$(AB)^T = B^TA^T$$\n",
    "$$(ABC)^T = C^TB^TA^T$$\n"
   ]
  },
  {
   "cell_type": "code",
   "execution_count": 32,
   "id": "05d0f6f8",
   "metadata": {},
   "outputs": [
    {
     "name": "stdout",
     "output_type": "stream",
     "text": [
      "[[ 6 10]\n",
      " [ 8 12]]\n",
      "[[ 6 10]\n",
      " [ 8 12]]\n",
      "[[19 43]\n",
      " [22 50]]\n",
      "[[19 43]\n",
      " [22 50]]\n",
      "[[325 737]\n",
      " [284 644]]\n",
      "[[325 737]\n",
      " [284 644]]\n"
     ]
    }
   ],
   "source": [
    "# 전치연산(덧셈)의 분배\n",
    "print((A+B).T)\n",
    "print(A.T + B.T)\n",
    "\n",
    "# 전치연산(곱셈)의 분배\n",
    "print((A@B).T)\n",
    "print(B.T@A.T)\n",
    "\n",
    "# 전치연산(곱셈)의 분배2\n",
    "print((A@B@C).T)\n",
    "print(C.T@B.T@A.T)"
   ]
  },
  {
   "cell_type": "markdown",
   "id": "0662d94c",
   "metadata": {},
   "source": [
    "### 곱셈의 연결법칙\n",
    "- 곱셈의 경우 계산 순서를 임의의 순서로 해도 상관없다.\n",
    "- 다만 행렬의 순서는 바뀔수 없다.\n",
    "\n",
    "$$ABC = (AB)C = A(BC)$$\n",
    "$$ABCD = ((AB)C)D = (AB)(CD) = A(BC)D$$"
   ]
  },
  {
   "cell_type": "code",
   "execution_count": 37,
   "id": "d5d2277c",
   "metadata": {},
   "outputs": [
    {
     "name": "stdout",
     "output_type": "stream",
     "text": [
      "[[95]]\n",
      "[[95]]\n",
      "[[95]]\n"
     ]
    }
   ],
   "source": [
    "# 곱셈의 연결법칙\n",
    "A = np.array([[1, 2]])\n",
    "B = np.array([[1, 2], [3, 4]])\n",
    "C = np.array([[5],[6]])\n",
    "\n",
    "print(A @ B @ C)\n",
    "print((A @ B) @ C)\n",
    "print(A @ (B @ C))"
   ]
  },
  {
   "cell_type": "markdown",
   "id": "52c13e73",
   "metadata": {},
   "source": [
    "### 항등행렬의 곱셈\n",
    "- 항등행렬(identity matrix) \n",
    "- 대각 행렬 중에서도 모든 대각성분의 값이 1로 구성된 행렬을 항등행렬이라고 한다.\n",
    "\n",
    "$$ I = \\begin{bmatrix} \n",
    "1\\;\\;0\\;\\;\\dots\\;\\;0 \\\\\n",
    "0\\;\\;1\\;\\;\\dots\\;\\;0 \\\\\n",
    "\\vdots\\;\\;\\;\\vdots\\;\\;\\ddots\\;\\;\\vdots\\\\ \n",
    "0\\;\\;\\;0\\;\\;\\;0\\;\\;\\;1\\end{bmatrix}$$\n",
    "\n",
    "따라서,\n",
    "$$AI = IA = A$$"
   ]
  },
  {
   "cell_type": "code",
   "execution_count": 41,
   "id": "295f7c2b",
   "metadata": {},
   "outputs": [
    {
     "data": {
      "text/plain": [
       "(array([[1., 2.],\n",
       "        [3., 4.]]),\n",
       " array([[1., 2.],\n",
       "        [3., 4.]]),\n",
       " array([[1, 2],\n",
       "        [3, 4]]))"
      ]
     },
     "execution_count": 41,
     "metadata": {},
     "output_type": "execute_result"
    }
   ],
   "source": [
    "# 항등행렬의 곱셈\n",
    "A = np.array([[1, 2], [3, 4]])\n",
    "I = np.eye(2)\n",
    "A@I, I@A, A"
   ]
  },
  {
   "cell_type": "code",
   "execution_count": null,
   "id": "97c93054",
   "metadata": {},
   "outputs": [],
   "source": []
  }
 ],
 "metadata": {
  "kernelspec": {
   "display_name": "Python 3",
   "language": "python",
   "name": "python3"
  },
  "language_info": {
   "codemirror_mode": {
    "name": "ipython",
    "version": 3
   },
   "file_extension": ".py",
   "mimetype": "text/x-python",
   "name": "python",
   "nbconvert_exporter": "python",
   "pygments_lexer": "ipython3",
   "version": "3.8.8"
  }
 },
 "nbformat": 4,
 "nbformat_minor": 5
}
