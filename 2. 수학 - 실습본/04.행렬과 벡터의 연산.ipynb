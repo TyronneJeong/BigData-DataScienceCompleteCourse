{
 "cells": [
  {
   "cell_type": "markdown",
   "id": "73318291",
   "metadata": {},
   "source": [
    "# 행렬과 벡터의 연산\n",
    "- 행렬이나 벡터가 연산하기 위해서는 연산자와 피연산자의 shape 이 동일해야 한다"
   ]
  },
  {
   "cell_type": "markdown",
   "id": "b5a0baee",
   "metadata": {},
   "source": [
    "#### 행렬/벡터의 덧셈"
   ]
  },
  {
   "cell_type": "code",
   "execution_count": 2,
   "id": "bba5e5e6",
   "metadata": {},
   "outputs": [
    {
     "data": {
      "text/plain": [
       "array([ 6,  7,  8,  9, 10])"
      ]
     },
     "execution_count": 2,
     "metadata": {},
     "output_type": "execute_result"
    }
   ],
   "source": [
    "import numpy as np\n",
    "\n",
    "x = np.array([1, 2, 3, 4, 5])\n",
    "y = np.array([5, 5, 5, 5, 5])\n",
    "x+y"
   ]
  },
  {
   "cell_type": "markdown",
   "id": "8b99be13",
   "metadata": {},
   "source": [
    "#### 행렬/벡터의 곱셈"
   ]
  },
  {
   "cell_type": "code",
   "execution_count": 5,
   "id": "3643fc1f",
   "metadata": {},
   "outputs": [
    {
     "data": {
      "text/plain": [
       "array([15, 30])"
      ]
     },
     "execution_count": 5,
     "metadata": {},
     "output_type": "execute_result"
    }
   ],
   "source": [
    "c = 3\n",
    "d = np.array([5, 10])\n",
    "d*c"
   ]
  },
  {
   "cell_type": "markdown",
   "id": "ecb8427b",
   "metadata": {},
   "source": [
    "#### 브로드캐스팅\n",
    "- 축약식의 사용"
   ]
  },
  {
   "cell_type": "code",
   "execution_count": 8,
   "id": "ac767c23",
   "metadata": {},
   "outputs": [
    {
     "data": {
      "text/plain": [
       "array([0, 1, 2])"
      ]
     },
     "execution_count": 8,
     "metadata": {},
     "output_type": "execute_result"
    }
   ],
   "source": [
    "a = np.array([10, 11, 12])\n",
    "s = 10 # 10*1벡터 : 의 축약으로 해석된다.\n",
    "a - s"
   ]
  },
  {
   "cell_type": "markdown",
   "id": "02963dd1",
   "metadata": {},
   "source": [
    "#### 평균제거 벡터 혹은 0평균(zero-mean) 벡터\n",
    "- 벡터내 원소들의 값에 평균값(mean)을 빼준 벡터  \n",
    "$$x - m = \\begin{bmatrix} x_1 - m \\\\ x_2 - m \\\\ \\vdots \\\\x_N - m\\end{bmatrix}$$"
   ]
  },
  {
   "cell_type": "markdown",
   "id": "1ab3d5f2",
   "metadata": {},
   "source": [
    "#### 선형조합 (linear combination)\n",
    "- 벡터/행렬에 스칼라를 곱한후 더하거나 뺀것  \n",
    "$$c_1x_1 + c_2x_2 + c_3x_3 + \\dots + c_Lx_L = X$$  \n",
    "$$c_1A_1 + c_2A_2 + c_3A_3 + \\dots + c_LA_L = X$$\n",
    "\n"
   ]
  },
  {
   "cell_type": "markdown",
   "id": "afce412c",
   "metadata": {},
   "source": [
    "#### 벡터와 벡터의 곱셈\n",
    "- 다양한 곱셈의 방식중 **내적(inner product)**에 관해서만 다룬다.  \n",
    "  ㄴ 내적은 두 벡터를 서로 곱한 값으로 $x^Ty$ 형식으로 표기한다.  \n",
    "  ㄴ 점(dot)으로 표기하는 경우도 있어 **닷 프로덕트(dot product)**라고도 한다.\n",
    "     $$x \\cdot y = x^T y = [x_1, x_2, \\dots, x_N]\\begin{bmatrix} y_1 \\\\ y_2 \\\\ \\vdots \\\\y_N \\end{bmatrix}= \\Sigma$$"
   ]
  },
  {
   "cell_type": "code",
   "execution_count": null,
   "id": "d0b9e451",
   "metadata": {},
   "outputs": [],
   "source": []
  }
 ],
 "metadata": {
  "kernelspec": {
   "display_name": "Python 3",
   "language": "python",
   "name": "python3"
  },
  "language_info": {
   "codemirror_mode": {
    "name": "ipython",
    "version": 3
   },
   "file_extension": ".py",
   "mimetype": "text/x-python",
   "name": "python",
   "nbconvert_exporter": "python",
   "pygments_lexer": "ipython3",
   "version": "3.8.8"
  }
 },
 "nbformat": 4,
 "nbformat_minor": 5
}
