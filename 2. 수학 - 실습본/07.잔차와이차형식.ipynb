{
 "cells": [
  {
   "cell_type": "markdown",
   "id": "6fdb1bf7",
   "metadata": {},
   "source": [
    "# 잔차\n",
    "- 선형 회귀분석(linear regression)을 한 결과 <u>모델이 예측한 결과 $\\hat{y}$ 와 실제 값 $y$ 의 차이</u>를 **오차(error) 혹은 잔차(residual)**라고 한다.\n",
    "- 또한 모든 특정변수로 부터 구한 예측값과 실제값 과의 차이를 구하면 잔차 벡터 $e$ 가 된다.\n",
    "\n",
    "\n",
    "$$ e = \\begin{bmatrix} e_1\n",
    "\\\\ e_2\n",
    "\\\\ \\vdots\n",
    "\\\\ e_M\n",
    "\\end{bmatrix}\\;\\;\\;\\;\\;\\;\\;\\;\\;\\;\\;\\;\\;\\;\\;\\;\n",
    "\\\n",
    "\\\\ =\n",
    "\\begin{bmatrix} y_1\n",
    "\\\\ y_2\n",
    "\\\\ \\vdots\n",
    "\\\\ y_M\n",
    "\\end{bmatrix} - \n",
    "\\begin{bmatrix} x^T_1w\n",
    "\\\\ x^T_2w\n",
    "\\\\ \\vdots\n",
    "\\\\ x^T_Mw\n",
    "\\\n",
    "\\end{bmatrix} \\\\ = y - Xw\\;\\;\\;\\;\\;\\;\\;\\;\\;\\;\\;\\;\\;\n",
    "$$"
   ]
  },
  {
   "cell_type": "markdown",
   "id": "4b6f6ec2",
   "metadata": {},
   "source": [
    "### 잔차제곱합 (RSS: Residual sum of squares)\n",
    "- 각 원소의 잔차를 제곱 한 후 모두 더한 값\n",
    "- 모델의 예측율을 확인 하기 위해 사용할 수 있다.\n",
    "- 다음과 같이 표기한다다. $e^Te$\n",
    "- 아래와 같은 성능지표가 더 있다.\n",
    "  - MSE (mean_squared_error)\n",
    "  - RMSE (root mean suqared error)\n",
    "  - MAE (mean absolute error)\n",
    "  - MAPE (mean absolute persentage error)"
   ]
  },
  {
   "cell_type": "markdown",
   "id": "c7858daf",
   "metadata": {},
   "source": [
    "# 이차형식 (Quadratic Form)\n",
    "\n",
    "- $w^TX^TXw$ 와 같은 수식에서 행렬 $X^TX$ 의 경우 길이와 높이가 같은 정방 행렬이 된다.\n",
    "- 이 정방행렬을 A 라고 이름 붙이면 $w^TAw$ 와 같은 형태가 된다.\n",
    "- 이처럼 벡터와 정방행렬이 <span style=\"color:red\"> **'행벡터 $\\times$ 정방행렬 $\\times$ 열벡터' 형식**</span>으로 이루어진 형식을 **이차형식 (Quadratic Form )**이라고 한다.\n",
    "\n",
    "$$ x^TAx = [x_1, x_2, \\dots, x_N]\n",
    "\\begin{bmatrix} a_{1, 1}\\;a_{1, 2}\\;\\dots\\;a_{1, N}\n",
    "\\\\ a_{2, 1}\\;a_{2, 2}\\;\\dots\\;a_{2, N}\n",
    "\\\\ \\vdots\\;\\;\\;\\vdots\\;\\;\\;\\ddots\\;\\;\\vdots\n",
    "\\\\ a_{N, 1}\\;a_{N, 2}\\;\\dots\\;a_{N, N}\n",
    "\\end{bmatrix}\n",
    "\\begin{bmatrix} x_1\n",
    "\\\\ x_2\n",
    "\\\\ \\vdots\n",
    "\\\\ x_N\n",
    "\\end{bmatrix}\n",
    "\\\\ \n",
    "\\\\ = \\sum^N_{i=1}\\sum^N_{j=1}a_{ij}x_ix_j \\;\\;\\;\\;\\;\\;\\;\\;\\;\\;\\;\\;\\;\\;\\;\\;\\;\\;\\;\\;\\;\\;\\;\\;\\;\\;\\;\\;\\;\\;\\;\\;\\;\n",
    "$$"
   ]
  },
  {
   "cell_type": "markdown",
   "id": "0ce008b2",
   "metadata": {},
   "source": [
    "#### 해설\n",
    "- 가중치 행렬 A 는 정방 행렬이다?!?\n",
    "- 이차형식은 행렬 X 의 i번째 원소 j 번째 원소를 곱한 행렬이다.\n",
    "- i, j로 곱할수 있는 모든 x의 값을 구하고 이에 가중치 a 를 곱한 값이다.\n",
    "- 가중치를 곱하여 얻은 모든 행렬의 값을 모두 더한 스칼라 값이다."
   ]
  },
  {
   "cell_type": "code",
   "execution_count": null,
   "id": "945a07b0",
   "metadata": {},
   "outputs": [],
   "source": []
  }
 ],
 "metadata": {
  "kernelspec": {
   "display_name": "Python 3",
   "language": "python",
   "name": "python3"
  },
  "language_info": {
   "codemirror_mode": {
    "name": "ipython",
    "version": 3
   },
   "file_extension": ".py",
   "mimetype": "text/x-python",
   "name": "python",
   "nbconvert_exporter": "python",
   "pygments_lexer": "ipython3",
   "version": "3.8.8"
  }
 },
 "nbformat": 4,
 "nbformat_minor": 5
}
