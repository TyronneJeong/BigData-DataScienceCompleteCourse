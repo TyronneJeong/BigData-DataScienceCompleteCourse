{
 "cells": [
  {
   "cell_type": "markdown",
   "id": "cc43edfc",
   "metadata": {},
   "source": [
    "# 그리스 문자\n",
    "\n",
    "\n",
    "LaTeX(레이텍) 표현식을 이용하여 그리스 문자를 작성 할 수 있다.\n",
    "\n",
    "- 인라인수식 : \\\\$와 \\\\$ 사이에 알파베티컬 표현식 사용   \n",
    "  ex) \\\\$alpha\\\\$ -> $\\alpha$  \n",
    "  \n",
    "- 디스플레이수식 : \\\\$\\\\$와 \\\\$\\\\$ 사이에 알파베티컬 표현식 사용  \n",
    "  ex) \\\\$\\\\$alpha 와 beta\\\\$\\\\$ $$\\alpha 와 \\beta $$"
   ]
  },
  {
   "cell_type": "markdown",
   "id": "82a155b3",
   "metadata": {},
   "source": [
    "|문자|발음|영문표기||문자|발음|영문표기||문자|발음|영문표기|\n",
    "|:--|:--|:--||:--|:--|:--||:--|:--|:--|\n",
    "|Α α|알파  |alpha    ||Ι ι|아이오타  |iota   ||Ρ ρ|로|rho|\n",
    "|Β β|베타  |beta     ||Κ κ|카파      |kappa  ||Σ σ|시그마|sigma|\n",
    "|Γ γ|감마  |gamma    ||Λ λ|람다      |lambda ||Τ τ|타우|tau|\n",
    "|Δ δ|델타  |delta    ||Μ μ|뮤        |mu     ||Υ υ|업살란|upsilon|\n",
    "|Ε ε|앱실론|epsilon  ||Ν ν|뉴        |nu     ||Φ φ|파이|phi|\n",
    "|Ζ ζ|제타  |zeta     ||Ξ ξ|자이      |xi     ||Χ χ|카이|chi|\n",
    "|Η η|에타  |eta      ||Ο ο|오마이크론|omicron||Ψ ψ|싸이|psi|\n",
    "|Θ θ|테타  |theta    ||Π π|파이      |pi     ||Ω ω|오미가|omega|"
   ]
  },
  {
   "cell_type": "markdown",
   "id": "9dd723ba",
   "metadata": {},
   "source": [
    "### 수열 (Sequence)\n",
    "\n",
    "- 숫자 또는 변수가 순서대로 나열된 자료.\n",
    "- ex) 1, 2, 3, 4\n",
    "- 임의의 데이터 6개$$x_1, x_2, x_3, x_4, x_5, x_6$$\n",
    "를 표현하는 경우 **1, 2, 3 .. 등은 숫자의 순서를 나타내는 기호 (index)**라고 부른다."
   ]
  },
  {
   "cell_type": "markdown",
   "id": "b53dd995",
   "metadata": {},
   "source": [
    "### 집합 (Set)\n",
    "\n",
    "- 순서가 중요하지 않은 자료 또는 순서를 모르는 경우 집합으로 표시한다.\n",
    "- 원소의 개수는 유한한 경우를 표현한다.\n",
    "- 원소의 개수가 무한한 경우 아래와 같이 표기한다.\n",
    " $$x \\in R$$"
   ]
  },
  {
   "cell_type": "markdown",
   "id": "937b7823",
   "metadata": {},
   "source": [
    "### 원소의 합, 원소의 곱\n",
    "\n",
    "- $\\Sigma$ : 원소들을 모두 더한 값 (sum)\n",
    "- $\\Pi$ : 원소들을 모두 곱한 값 (product)"
   ]
  },
  {
   "cell_type": "code",
   "execution_count": null,
   "id": "af92015c",
   "metadata": {},
   "outputs": [],
   "source": []
  }
 ],
 "metadata": {
  "kernelspec": {
   "display_name": "Python 3",
   "language": "python",
   "name": "python3"
  },
  "language_info": {
   "codemirror_mode": {
    "name": "ipython",
    "version": 3
   },
   "file_extension": ".py",
   "mimetype": "text/x-python",
   "name": "python",
   "nbconvert_exporter": "python",
   "pygments_lexer": "ipython3",
   "version": "3.8.8"
  }
 },
 "nbformat": 4,
 "nbformat_minor": 5
}
